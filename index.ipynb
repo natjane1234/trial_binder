import pandas as pd
import ipywidgets as widgets
from IPython.display import display, clear_output, HTML
from ipywidgets import interactive, Dropdown, HBox, VBox, Layout, HTML, Label, embed
from tools import sections_data, wood_data, woodBeam, woodBeamCheck

# Dropdown for selecting a category
specific_height = '27.3px'  # Example height

material_input = widgets.Dropdown(
    options=sorted([str(x) for x in wood_data.index.unique().tolist()]),
    description='Material:',
    value="Douglas Fir-Larch - No.2",
    continuous_update=False,
    style={'description_width': 'initial'},
    
)

shape_input = widgets.Dropdown(
    options=sorted([str(x) for x in sections_data.index.unique().tolist()]),
    value="2x8",
    description='Shape:',
    continuous_update=False,
    style={'description_width': 'initial'},
)

length_input = widgets.FloatText(
    value=100,
    description='Length between points of 0 moment (in):',
    continuous_update=False,
    style={'description_width': 'initial'},
)

load_input = widgets.FloatText(
    value=10,
    description='Uniform distributed load (lb/ft):',
    continuous_update=False,
    style={'description_width': 'initial'},
)


# The mode factor inputs are present for both glulam and sawn wood
wet_service_input = widgets.Dropdown(
    options=['Dry service', 'Wet service'],
    value='Dry service',
    description='Wet Service Factor:',
    continuous_update=False,
    style={'description_width': 'initial'},
    layout=widgets.Layout(width='auto', height=specific_height)
)

temp_input = widgets.Dropdown(
    options=['Normal', 'Elevated (100 degrees F < T <= 125 degrees F)', 'Elevated (above 125 degrees F)'],
    value='Normal',
    description='Temperature Factor:',
    continuous_update=False,
    style={'description_width': 'initial'},
    layout=widgets.Layout(width='auto', height=specific_height)
)

stability_input = widgets.Dropdown(
    options=['Laterally Supported', 'Discontinuous Lateral Support'],
    value='Laterally Supported',
    description='Beam Stability Factor:',
    continuous_update=False,
    style={'description_width': 'initial'},
    layout=widgets.Layout(width='auto', height=specific_height)
)

flat_use_input = widgets.Dropdown(
    options=['Strong axis bending', 'Weak axis bending'],
    value='Strong axis bending',
    description='Flat-use factor:',
    continuous_update=False,
    style={'description_width': 'initial'},
    layout=widgets.Layout(width='auto', height=specific_height)
)

format_input = widgets.Dropdown(
    options=['Automatic'],
    value='Automatic',
    description='Format conversion:',
    continuous_update=False,
    style={'description_width': 'initial'},
    layout=widgets.Layout(width='auto', height=specific_height)
)

resistance_factor_input = widgets.Dropdown(
    options=['Automatic'],
    value='Automatic',
    description='Resistance factor:',
    continuous_update=False,
    style={'description_width': 'initial'},
    layout=widgets.Layout(width='auto', height=specific_height)
)

time_factor_input = widgets.Dropdown(
    options=['Automatic'],
    value='Automatic',
    description='Time factor:',
    continuous_update=False,
    style={'description_width': 'initial'},
    layout=widgets.Layout(width='auto', height=specific_height)
)

volume_factor_input = widgets.Dropdown(
    options=['Automatic'],
    value='Automatic',
    description='Volume Factor:',
    continuous_update=False,
    style={'description_width': 'initial'},
    layout=widgets.Layout(width='auto', height=specific_height)
)

incising_input = widgets.Dropdown(
    options=['Incised', 'Non-incised'],
    value='Non-incised',
    description='Incising factor:',
    continuous_update=False,
    style={'description_width': 'initial'},
    layout=widgets.Layout(width='auto', height=specific_height)
)

size_factor_input = widgets.Dropdown(
    options=['Automatic'],
    value='Automatic',
    description='Size Factor:',
    continuous_update=False,
    style={'description_width': 'initial'},
    layout=widgets.Layout(width='auto', height=specific_height)
)

repetitive_input = widgets.Dropdown(
    options=['Repetitive', 'Non-repetitive'],
    value='Repetitive',
    description='Repetitive member factor:',
    continuous_update=False,
    style={'description_width': 'initial'},
    layout=widgets.Layout(width='auto', height=specific_height)
)

# Create a Label widget with an empty string for spacing
spacer = widgets.Label('')

# Define the CSS for the dataframes
css = """
<style>
    .dataframe, .dataframe th, .dataframe td {
        border: 1px solid black;
        height: 30px;
        min-width: 60px;
        text-align: center !important;
        padding: 0px;
    }
    .dataframe {
        border-collapse: collapse;
    }
</style>
"""

# Create an output widget for displaying dataframes
df_output = widgets.Output()
df_output_2 = widgets.Output()

# Create the initial layout
layout_view = widgets.Output()
beam_input = VBox([shape_input, material_input, length_input, load_input])

# Function to update the layout based on input changes
def update_values(change=None):
    with layout_view:
        clear_output(wait=True)
        
        # Determine mod_factor based on material input
        if material_input.value in ["1.5E LVL", "2.0E LVL", "2.2E LVL"]:
            widgets_to_observe = [
                material_input, shape_input, length_input, time_factor_input,
                wet_service_input, temp_input, stability_input, volume_factor_input,
                repetitive_input, format_input, resistance_factor_input, time_factor_input
            ]
            mod_factor = VBox([
                spacer, wet_service_input, temp_input, stability_input,
                volume_factor_input, repetitive_input, format_input,
                resistance_factor_input, time_factor_input
            ])
        else:
            widgets_to_observe = [
                material_input, shape_input, length_input, time_factor_input,
                wet_service_input, temp_input, stability_input, size_factor_input,
                flat_use_input, incising_input, repetitive_input, format_input,
                resistance_factor_input, time_factor_input
            ]
            mod_factor = VBox([
                spacer, wet_service_input, temp_input, stability_input,
                size_factor_input, flat_use_input, incising_input,
                repetitive_input, format_input, resistance_factor_input,
                time_factor_input
            ])

        # Create a new layout
        new_layout = HBox([mod_factor, df_output])
        display(new_layout)

        # Create a beam item with input properties and update the dataframe
        if material_input.value in ["1.5E LVL", "2.0E LVL", "2.2E LVL"]:
            trial_beam = woodBeam(
                material=material_input.value, shape=shape_input.value,
                length=length_input.value, wet_service=wet_service_input.value,
                temp=temp_input.value, stability=stability_input.value, repetitive=repetitive_input.value
            )
        else:
            trial_beam = woodBeam(
                material=material_input.value, shape=shape_input.value,
                length=length_input.value, wet_service=wet_service_input.value,
                temp=temp_input.value, stability=stability_input.value,
                flat_use=flat_use_input.value, incising=incising_input.value,
                repetitive=repetitive_input.value
            )

        # Display the dataframe
        with df_output:
            clear_output(wait=True)
            html_mod_title = "<h4>Modification Factors</h4>"
            display(HTML(css + trial_beam.mod_factors.to_html(classes='dataframe', index=False)))

        # Update the beam parameters
        if trial_beam.capacity != "See NDS":
            with df_output_2:
                clear_output(wait=True)
                
                html_text = f"""
                <h4> Beam Parameters</h4>
                <div style="display: flex;">
                  <div style="flex: 1;">
                    <p>Material = {material_input.value}<br>
                Shape = {shape_input.value}<br>
                Fb = {int(round(wood_data.loc[material_input.value,"Fb"] ,0))} psi<br>
                Fv = {int(round(wood_data.loc[material_input.value,"Fv"] ,0))} psi<br></p>
                  </div>
                  <div style="flex: 1;">
                    <p>Fc = {int(round(wood_data.loc[material_input.value,"Fc"] ,0))} psi<br>
                E = {int(round(wood_data.loc[material_input.value,"E"]/1000 ,0))} ksi<br>
                Ix = {round(sections_data.loc[shape_input.value,"I_x"] ,2)} in^4<br>
                Sx = {round(sections_data.loc[shape_input.value,"S_x"],2)} in^3<br></p>
                  </div>
                  <div style="flex: 2;">
                    <p>Depth = {round(sections_data.loc[shape_input.value,"d"],2)} in<br>
                Width = {round(sections_data.loc[shape_input.value,"b"],2)} in<br>
                Area = {round(sections_data.loc[shape_input.value,"area"],2)} in^2<br></p>
                  </div>
                </div>
                <h4> Beam Strength</h4>
                Adjusted compression strength = {int(round(trial_beam.capacity["Compression Strength"]*1000,0))} psi<br>
                Adjusted perp. compression strength = {int(round(trial_beam.capacity["Perp. Compression Strength"]*1000,0))} psi<br>
                Adjusted shear strength = {int(round(trial_beam.capacity["Shear Strength"]*1000,0))} psi<br>
                Adjusted bending strength = {int(round(trial_beam.capacity["Bending Strength"]*1000,0))} psi<br>
                Adjusted E = {int(round(trial_beam.capacity["E_adj"],0))} ksi<br>
                <h4> Beam Loads</h4>
                """
                display(HTML(html_text))
        else:
            with df_output_2:
                clear_output(wait=True)
                html_text = "See NDS"
                display(HTML(html_text))


# Observe changes in the widgets
widgets_to_observe = [
    shape_input, length_input, time_factor_input, wet_service_input,
    temp_input, stability_input, incising_input, repetitive_input,
    size_factor_input, flat_use_input, format_input,
    resistance_factor_input, material_input
]

for widget in widgets_to_observe:
    widget.observe(update_values, 'value')

# Call the initial update
update_values()

# Add button to run analysis with loading
run_analysis_button = widgets.Button(
    description="Run Analysis",
    button_style="info",
    icon="play"
)

def on_run_analysis_clicked(b):
    with output_3:
        clear_output(wait=True)
        
        if material_input.value in ["1.5E LVL", "2.0E LVL", "2.2E LVL"]:
            output_beam = woodBeamCheck(
                material=material_input.value, shape=shape_input.value,
                length=length_input.value, supports=[[0., 0.], [length_input.value, 0.]],
                loads=[[0., length_input.value, load_input.value /1000/12]], wet_service=wet_service_input.value,
                temp=temp_input.value, stability=stability_input.value, flat_use=flat_use_input.value,
                curvature=curvature_input.value
            )
        else:
            output_beam = woodBeamCheck(
                material=material_input.value, shape=shape_input.value,
                length=length_input.value, supports=[[0., 0.], [length_input.value, 0.]],
                loads=[[0., length_input.value, load_input.value/1000/12]], wet_service=wet_service_input.value,
                temp=temp_input.value, stability=stability_input.value, flat_use=flat_use_input.value,
                incising=incising_input.value, repetitive=repetitive_input.value
            )

        output_beam.calc_loads()
        output_beam.calc_capacity_check()
        html_output = f"""
        Maximum moment = {int(round(output_beam.M, 0))} kip-in<br>
        Maximum bending stress = {int(round(output_beam.capacity_check["Bending Stress"]*1000, 0))} psi<br>
        Bending check = {output_beam.capacity_check["Bending Check"]} <br>
        Maximum shear = {int(round(output_beam.V*1000, 0))} lb<br>
        Maximum shear stress = {int(round(output_beam.capacity_check["Shear Stress"]*1000, 0))} psi<br>
        Shear check = {output_beam.capacity_check["Shear Check"]} <br>
        Req. bearing length = {round(output_beam.capacity_check["Bearing Length"], 1)} in<br>
        Maximum deflection = {round(output_beam.defl, 1)} in<br>
        """
        display(HTML(html_output))

run_analysis_button.on_click(on_run_analysis_clicked)

# Initial display setup
title_1 = HTML("<h4>Beam Type</h4>")
title_2 = HTML("<h4>Modification Factors</h4>")
output_3 = widgets.Output()

display(title_1, beam_input, title_2, layout_view, df_output_2, run_analysis_button, output_3)
